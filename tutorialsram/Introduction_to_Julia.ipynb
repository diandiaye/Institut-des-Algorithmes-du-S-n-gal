{
 "cells": [
  {
   "cell_type": "markdown",
   "metadata": {},
   "source": [
    "# Institut des Algorithmes du Sénégal\n",
    "\n",
    "# Learning Julia By Example\n",
    "Below are a series of examples of common operations in Julia. They assume you already have Julia installed and working."
   ]
  },
  {
   "cell_type": "markdown",
   "metadata": {},
   "source": [
    "# 1. Hello World\n",
    "The simplest possible script."
   ]
  },
  {
   "cell_type": "code",
   "execution_count": 1,
   "metadata": {
    "execution": {
     "iopub.execute_input": "2021-05-11T13:04:02.641000Z",
     "iopub.status.busy": "2021-05-11T13:04:01.748000Z",
     "iopub.status.idle": "2021-05-11T13:04:03.038000Z",
     "shell.execute_reply": "2021-05-11T13:04:02.934000Z"
    }
   },
   "outputs": [
    {
     "name": "stdout",
     "output_type": "stream",
     "text": [
      "hello world\n"
     ]
    }
   ],
   "source": [
    "println(\"hello world\")"
   ]
  },
  {
   "cell_type": "markdown",
   "metadata": {},
   "source": [
    "# 2. Simple Functions\n",
    "The example below shows two simple functions, how to call them and print the results. Further examples of number formatting are shown below."
   ]
  },
  {
   "cell_type": "code",
   "execution_count": 2,
   "metadata": {
    "execution": {
     "iopub.execute_input": "2021-05-11T13:08:08.372000Z",
     "iopub.status.busy": "2021-05-11T13:08:08.371000Z",
     "iopub.status.idle": "2021-05-11T13:08:08.610000Z",
     "shell.execute_reply": "2021-05-11T13:08:08.610000Z"
    }
   },
   "outputs": [
    {
     "name": "stdout",
     "output_type": "stream",
     "text": [
      "volume = 113.097\n"
     ]
    }
   ],
   "source": [
    "# function to calculate the volume of a sphere\n",
    "function sphere_vol(r)\n",
    "    # julia allows Unicode names (in UTF-8 encoding)\n",
    "    # so either \"pi\" or the symbol π can be used\n",
    "    return 4/3*pi*r^3\n",
    "end\n",
    "\n",
    "vol = sphere_vol(3)\n",
    "# @printf allows number formatting but does not \n",
    "# automatically append the \\n to statements, see below\n",
    "using Printf\n",
    "@printf \"volume = %0.3f\\n\" vol "
   ]
  },
  {
   "cell_type": "code",
   "execution_count": 5,
   "metadata": {},
   "outputs": [
    {
     "name": "stdout",
     "output_type": "stream",
     "text": [
      "result 1: 3.0\n",
      "result 2: -2.0\n"
     ]
    }
   ],
   "source": [
    "# functions can also be defined more succinctly\n",
    "quadratic(a, sqr_term, b) = (-b + sqr_term) / 2a\n",
    "\n",
    "# calculates x for 0 = a*x^2+b*x+c, arguments types can be defined in function definitions\n",
    "function quadratic2(a::Float64, b::Float64, c::Float64)\n",
    "    # unlike other languages 2a is equivalent to 2*a\n",
    "    # a^2 is used instead of a**2 or pow(a,2)\n",
    "    sqr_term = sqrt(b^2-4a*c)\n",
    "    r1 = quadratic(a, sqr_term, b)\n",
    "    r2 = quadratic(a, -sqr_term, b)\n",
    "    # multiple values can be returned from a function using tuples\n",
    "    # if the return keyword is omitted, the last term is returned\n",
    "    r1, r2\n",
    "end\n",
    "\n",
    "quad1, quad2 = quadratic2(2.0, -2.0, -12.0)\n",
    "println(\"result 1: \", quad1)\n",
    "println(\"result 2: \", quad2)"
   ]
  },
  {
   "cell_type": "markdown",
   "metadata": {},
   "source": [
    "# 3.  Strings Basics\n",
    "Collection of different string examples (string indexing is the same as array indexing: see below)."
   ]
  },
  {
   "cell_type": "code",
   "execution_count": 7,
   "metadata": {},
   "outputs": [
    {
     "name": "stdout",
     "output_type": "stream",
     "text": [
      "The quick brown fox jumps over the lazy dog α,β,γ\n"
     ]
    }
   ],
   "source": [
    "# strings are defined with double quotes\n",
    "# like variables, strings can contain any unicode character\n",
    "s1 = \"The quick brown fox jumps over the lazy dog α,β,γ\"\n",
    "println(s1)"
   ]
  },
  {
   "cell_type": "code",
   "execution_count": 8,
   "metadata": {},
   "outputs": [
    {
     "name": "stdout",
     "output_type": "stream",
     "text": [
      "this and that.\n"
     ]
    }
   ],
   "source": [
    "# println adds a new line to the end of output\n",
    "# print can be used if you dont want that:\n",
    "print(\"this\")\n",
    "print(\" and\")\n",
    "print(\" that.\\n\")"
   ]
  },
  {
   "cell_type": "code",
   "execution_count": 10,
   "metadata": {},
   "outputs": [
    {
     "name": "stdout",
     "output_type": "stream",
     "text": [
      "a\n",
      "a ascii value = 97\n",
      "Int('α') == 945\n"
     ]
    }
   ],
   "source": [
    "# chars are defined with single quotes\n",
    "c1 = 'a'\n",
    "println(c1)\n",
    "# the ascii value of a char can be found with Int():\n",
    "println(c1, \" ascii value = \", Int(c1))\n",
    "println(\"Int('α') == \", Int('α'))"
   ]
  },
  {
   "cell_type": "code",
   "execution_count": 11,
   "metadata": {},
   "outputs": [
    {
     "name": "stdout",
     "output_type": "stream",
     "text": [
      "false\n"
     ]
    }
   ],
   "source": [
    "# so be aware that\n",
    "println(Int('1') == 1)"
   ]
  },
  {
   "cell_type": "code",
   "execution_count": 12,
   "metadata": {},
   "outputs": [
    {
     "name": "stdout",
     "output_type": "stream",
     "text": [
      "THE QUICK BROWN FOX JUMPS OVER THE LAZY DOG Α,Β,Γ\n",
      "the quick brown fox jumps over the lazy dog α,β,γ\n"
     ]
    }
   ],
   "source": [
    "# strings can be converted to upper case or lower case:\n",
    "s1_caps = uppercase(s1)\n",
    "s1_lower = lowercase(s1)\n",
    "println(s1_caps, \"\\n\", s1_lower)"
   ]
  },
  {
   "cell_type": "code",
   "execution_count": 13,
   "metadata": {},
   "outputs": [
    {
     "name": "stdout",
     "output_type": "stream",
     "text": [
      "'b'\n"
     ]
    }
   ],
   "source": [
    "# sub strings can be indexed like arrays:\n",
    "# (show prints the raw value)\n",
    "show(s1[11]); println()"
   ]
  },
  {
   "cell_type": "code",
   "execution_count": 14,
   "metadata": {},
   "outputs": [
    {
     "name": "stdout",
     "output_type": "stream",
     "text": [
      "\"The quick \"\n"
     ]
    }
   ],
   "source": [
    "# or sub strings can be created:\n",
    "show(s1[1:10]); println()"
   ]
  },
  {
   "cell_type": "code",
   "execution_count": 15,
   "metadata": {},
   "outputs": [
    {
     "name": "stdout",
     "output_type": "stream",
     "text": [
      "\"dog α,β,γ\"\n"
     ]
    }
   ],
   "source": [
    "# end is used for the end of the array or string\n",
    "show(s1[end-10:end]); println()"
   ]
  },
  {
   "cell_type": "code",
   "execution_count": 16,
   "metadata": {},
   "outputs": [
    {
     "name": "stdout",
     "output_type": "stream",
     "text": [
      "welcome to julia.\n"
     ]
    }
   ],
   "source": [
    "# julia allows string Interpolation:\n",
    "a = \"welcome\"\n",
    "b = \"julia\"\n",
    "println(\"$a to $b.\")"
   ]
  },
  {
   "cell_type": "code",
   "execution_count": 17,
   "metadata": {},
   "outputs": [
    {
     "name": "stdout",
     "output_type": "stream",
     "text": [
      "1 + 2 = 3\n"
     ]
    }
   ],
   "source": [
    "# this can extend to evaluate statements:\n",
    "println(\"1 + 2 = $(1 + 2)\")"
   ]
  },
  {
   "cell_type": "code",
   "execution_count": 18,
   "metadata": {},
   "outputs": [
    {
     "name": "stdout",
     "output_type": "stream",
     "text": [
      "this and that\n"
     ]
    }
   ],
   "source": [
    "# strings can also be concatenated using the * operator\n",
    "# using * instead of + isn't intuitive when you start with Julia,\n",
    "# however people think it makes more sense\n",
    "s2 = \"this\" * \" and\" * \" that\"\n",
    "println(s2)"
   ]
  },
  {
   "cell_type": "code",
   "execution_count": 19,
   "metadata": {},
   "outputs": [
    {
     "name": "stdout",
     "output_type": "stream",
     "text": [
      "this and that\n"
     ]
    }
   ],
   "source": [
    "# as well as the string function\n",
    "s3 = string(\"this\", \" and\", \" that\")\n",
    "println(s3)"
   ]
  },
  {
   "cell_type": "markdown",
   "metadata": {},
   "source": [
    "# 4. String: Converting and formatting"
   ]
  },
  {
   "cell_type": "code",
   "execution_count": 20,
   "metadata": {},
   "outputs": [
    {
     "name": "stdout",
     "output_type": "stream",
     "text": [
      "13.59\n",
      "45\n"
     ]
    }
   ],
   "source": [
    "# strings can be converted using float and int:\n",
    "e_str1 = \"2.718\"\n",
    "e = parse(Float64, e_str1)\n",
    "println(5e)\n",
    "num_15 = parse(Int, \"15\")\n",
    "println(3num_15)"
   ]
  },
  {
   "cell_type": "code",
   "execution_count": 21,
   "metadata": {},
   "outputs": [
    {
     "name": "stdout",
     "output_type": "stream",
     "text": [
      "e = 2.72\n"
     ]
    },
    {
     "data": {
      "text/plain": [
       "\"2.718\""
      ]
     },
     "execution_count": 21,
     "metadata": {},
     "output_type": "execute_result"
    }
   ],
   "source": [
    "# numbers can be converted to strings and formatted using printf\n",
    "using Printf\n",
    "@printf \"e = %0.2f\\n\" e\n",
    "# or to create another string sprintf\n",
    "e_str2 = @sprintf(\"%0.3f\", e)"
   ]
  },
  {
   "cell_type": "code",
   "execution_count": 22,
   "metadata": {},
   "outputs": [
    {
     "name": "stdout",
     "output_type": "stream",
     "text": [
      "e_str1 == e_str2: true\n"
     ]
    }
   ],
   "source": [
    "# to show that the 2 strings are the same\n",
    "println(\"e_str1 == e_str2: $(e_str1 == e_str2)\")"
   ]
  },
  {
   "cell_type": "code",
   "execution_count": 23,
   "metadata": {},
   "outputs": [
    {
     "name": "stdout",
     "output_type": "stream",
     "text": [
      "fix trailing precision: 3.142\n",
      "scientific form: 3.141593e+03\n",
      "float in hexadecimal format: 0xf.fp+4\n",
      "fix trailing precision: 3.14159e+08\n",
      "a character: α\n",
      "a string: look I'm a string!\n",
      "right justify a string:                    width 50, text right justified!\n",
      "a pointer: 0x0000000005f5e100\n",
      "print an integer: 10000000000\n"
     ]
    }
   ],
   "source": [
    "# available number format characters are f, e, a, g, c, s, p, d:\n",
    "# (pi is a predefined constant; however, since its type is \n",
    "# \"MathConst\" it has to be converted to a float to be formatted)\n",
    "@printf \"fix trailing precision: %0.3f\\n\" float(pi)\n",
    "@printf \"scientific form: %0.6e\\n\" 1000pi\n",
    "@printf \"float in hexadecimal format: %a\\n\" 0xff\n",
    "@printf \"fix trailing precision: %g\\n\" pi*1e8\n",
    "@printf \"a character: %c\\n\" 'α'\n",
    "@printf \"a string: %s\\n\" \"look I'm a string!\"\n",
    "@printf \"right justify a string: %50s\\n\" \"width 50, text right justified!\"\n",
    "@printf \"a pointer: %p\\n\" 100000000\n",
    "@printf \"print an integer: %d\\n\" 1e10"
   ]
  },
  {
   "cell_type": "markdown",
   "metadata": {},
   "source": [
    "# 5. String Manipulations"
   ]
  },
  {
   "cell_type": "code",
   "execution_count": 24,
   "metadata": {},
   "outputs": [
    {
     "data": {
      "text/plain": [
       "\"The quick brown fox jumps over the lazy dog α,β,γ\""
      ]
     },
     "execution_count": 24,
     "metadata": {},
     "output_type": "execute_result"
    }
   ],
   "source": [
    "s1 = \"The quick brown fox jumps over the lazy dog α,β,γ\""
   ]
  },
  {
   "cell_type": "code",
   "execution_count": 25,
   "metadata": {},
   "outputs": [
    {
     "name": "stdout",
     "output_type": "stream",
     "text": [
      "11\n"
     ]
    }
   ],
   "source": [
    "# search returns the first index of a char\n",
    "i = findfirst(isequal('b'), s1)\n",
    "println(i)\n",
    "# the second argument is equivalent to the second argument of split, see below"
   ]
  },
  {
   "cell_type": "code",
   "execution_count": 26,
   "metadata": {},
   "outputs": [
    {
     "name": "stdout",
     "output_type": "stream",
     "text": [
      "11:15\n"
     ]
    }
   ],
   "source": [
    "# or a range if called with another string\n",
    "r = findfirst(\"brown\", s1)\n",
    "println(r)"
   ]
  },
  {
   "cell_type": "code",
   "execution_count": 27,
   "metadata": {},
   "outputs": [
    {
     "name": "stdout",
     "output_type": "stream",
     "text": [
      "\"The quick red fox jumps over the lazy dog α,β,γ\"\n"
     ]
    }
   ],
   "source": [
    "# string replace is done thus:\n",
    "r = replace(s1, \"brown\" => \"red\")\n",
    "show(r); println()"
   ]
  },
  {
   "cell_type": "code",
   "execution_count": 28,
   "metadata": {},
   "outputs": [
    {
     "name": "stdout",
     "output_type": "stream",
     "text": [
      "11:15\n"
     ]
    }
   ],
   "source": [
    "# search and replace can also take a regular expressions by preceding the string with 'r'\n",
    "r = findfirst(r\"b[\\w]*n\", s1)\n",
    "println(r)"
   ]
  },
  {
   "cell_type": "code",
   "execution_count": 29,
   "metadata": {},
   "outputs": [
    {
     "name": "stdout",
     "output_type": "stream",
     "text": [
      "\"The quick red fox jumps over the lazy dog α,β,γ\"\n"
     ]
    }
   ],
   "source": [
    "# again with a regular expression\n",
    "r = replace(s1, r\"b[\\w]*n\" => \"red\")\n",
    "show(r); println()"
   ]
  },
  {
   "cell_type": "code",
   "execution_count": 30,
   "metadata": {},
   "outputs": [
    {
     "name": "stdout",
     "output_type": "stream",
     "text": [
      "RegexMatch(\"brown\")\n"
     ]
    }
   ],
   "source": [
    "# there are also functions for regular expressions that return RegexMatch types\n",
    "# match scans left to right for the first match (specified starting index optional)\n",
    "r = match(r\"b[\\w]*n\", s1)\n",
    "println(r)"
   ]
  },
  {
   "cell_type": "code",
   "execution_count": 31,
   "metadata": {},
   "outputs": [
    {
     "name": "stdout",
     "output_type": "stream",
     "text": [
      "\"brown\"\n"
     ]
    }
   ],
   "source": [
    "# RegexMatch types have a property match that holds the matched string\n",
    "show(r.match); println()"
   ]
  },
  {
   "cell_type": "code",
   "execution_count": 32,
   "metadata": {},
   "outputs": [
    {
     "name": "stdout",
     "output_type": "stream",
     "text": [
      "\"quick\" \"brown\" \"jumps\" \"over\" \"lazy\" \n"
     ]
    }
   ],
   "source": [
    "# eachmatch returns an iterator over all the matches\n",
    "r = eachmatch(r\"[\\w]{4,}\", s1)\n",
    "for i in r print(\"\\\"$(i.match)\\\" \") end\n",
    "println()"
   ]
  },
  {
   "cell_type": "code",
   "execution_count": 33,
   "metadata": {},
   "outputs": [
    {
     "name": "stdout",
     "output_type": "stream",
     "text": [
      "SubString{String}[\"quick\", \"brown\", \"jumps\", \"over\", \"lazy\"]\n"
     ]
    }
   ],
   "source": [
    "r = collect(m.match for m = eachmatch(r\"[\\w]{4,}\", s1))\n",
    "println(r)"
   ]
  },
  {
   "cell_type": "code",
   "execution_count": 34,
   "metadata": {},
   "outputs": [
    {
     "name": "stdout",
     "output_type": "stream",
     "text": [
      "\"hello hello hello \"\n"
     ]
    }
   ],
   "source": [
    "# a string can be repeated using the repeat function, \n",
    "# or more succinctly with the ^ syntax:\n",
    "r = \"hello \"^3\n",
    "show(r); println()"
   ]
  },
  {
   "cell_type": "code",
   "execution_count": 35,
   "metadata": {},
   "outputs": [
    {
     "name": "stdout",
     "output_type": "stream",
     "text": [
      "\"hello\"\n",
      "\"ello\"\n"
     ]
    }
   ],
   "source": [
    "# the strip function works the same as python:\n",
    "# e.g., with one argument it strips the outer whitespace\n",
    "r = strip(\"hello \")\n",
    "show(r); println()\n",
    "# or with a second argument of an array of chars it strips any of them;\n",
    "r = strip(\"hello \", ['h', ' '])\n",
    "show(r); println()\n",
    "# (note the array is of chars and not strings)"
   ]
  },
  {
   "cell_type": "code",
   "execution_count": 37,
   "metadata": {},
   "outputs": [
    {
     "name": "stdout",
     "output_type": "stream",
     "text": [
      "SubString{String}[\"hello\", \" there\", \"bob\"]\n",
      "SubString{String}[\"hello\", \"there,bob\"]\n",
      "SubString{String}[\"hello\", \"there\", \"bob\"]\n"
     ]
    }
   ],
   "source": [
    "# similarly split works in basically the same way as python:\n",
    "r = split(\"hello, there,bob\", ',')\n",
    "show(r); println()\n",
    "r = split(\"hello, there,bob\", \", \")\n",
    "show(r); println()\n",
    "r = split(\"hello, there,bob\", [',', ' '], limit=0, keepempty=false)\n",
    "show(r); println()\n",
    "# (the last two arguements are limit and include_empty, see docs)"
   ]
  },
  {
   "cell_type": "code",
   "execution_count": 38,
   "metadata": {},
   "outputs": [
    {
     "name": "stdout",
     "output_type": "stream",
     "text": [
      "1, 2, 3, 4, 5, 6, 7, 8, 9, 10\n"
     ]
    }
   ],
   "source": [
    "# the opposite of split: join is simply\n",
    "r = join(collect(1:10), \", \")\n",
    "println(r)"
   ]
  },
  {
   "cell_type": "markdown",
   "metadata": {},
   "source": [
    "# 6. Arrays"
   ]
  },
  {
   "cell_type": "code",
   "execution_count": 1,
   "metadata": {
    "execution": {
     "iopub.execute_input": "2021-05-11T12:58:13.154000Z",
     "iopub.status.busy": "2021-05-11T12:58:12.313000Z",
     "iopub.status.idle": "2021-05-11T12:58:14.221000Z",
     "shell.execute_reply": "2021-05-11T12:58:14.182000Z"
    }
   },
   "outputs": [
    {
     "data": {
      "text/plain": [
       "printsum (generic function with 1 method)"
      ]
     },
     "execution_count": 1,
     "metadata": {},
     "output_type": "execute_result"
    }
   ],
   "source": [
    "function printsum(a)\n",
    "    # summary generates a summary of an object\n",
    "    println(summary(a), \": \", repr(a))\n",
    "end"
   ]
  },
  {
   "cell_type": "code",
   "execution_count": 2,
   "metadata": {
    "execution": {
     "iopub.execute_input": "2021-05-11T12:58:35.537000Z",
     "iopub.status.busy": "2021-05-11T12:58:35.537000Z",
     "iopub.status.idle": "2021-05-11T12:58:35.869000Z",
     "shell.execute_reply": "2021-05-11T12:58:35.869000Z"
    }
   },
   "outputs": [
    {
     "name": "stdout",
     "output_type": "stream",
     "text": [
      "3-element Array{Int64,1}: [1, 2, 3]\n"
     ]
    }
   ],
   "source": [
    "# arrays can be initialised directly:\n",
    "a1 = [1,2,3]\n",
    "printsum(a1)"
   ]
  },
  {
   "cell_type": "code",
   "execution_count": 3,
   "metadata": {
    "execution": {
     "iopub.execute_input": "2021-05-11T12:58:40.893000Z",
     "iopub.status.busy": "2021-05-11T12:58:40.893000Z",
     "iopub.status.idle": "2021-05-11T12:58:41.113000Z",
     "shell.execute_reply": "2021-05-11T12:58:41.113000Z"
    }
   },
   "outputs": [
    {
     "name": "stdout",
     "output_type": "stream",
     "text": [
      "0-element Array{Any,1}: Any[]\n"
     ]
    }
   ],
   "source": [
    "# or initialised empty:\n",
    "a2 = []\n",
    "printsum(a2)"
   ]
  },
  {
   "cell_type": "code",
   "execution_count": 4,
   "metadata": {
    "execution": {
     "iopub.execute_input": "2021-05-11T12:58:46.738000Z",
     "iopub.status.busy": "2021-05-11T12:58:46.737000Z",
     "iopub.status.idle": "2021-05-11T12:58:46.742000Z",
     "shell.execute_reply": "2021-05-11T12:58:46.742000Z"
    }
   },
   "outputs": [
    {
     "name": "stdout",
     "output_type": "stream",
     "text": [
      "0-element Array{Int64,1}: Int64[]\n"
     ]
    }
   ],
   "source": [
    "# since this array has no type, functions like push! (see below) don't work\n",
    "# instead arrays can be initialised with a type:\n",
    "a3 = Int64[]\n",
    "printsum(a3)"
   ]
  },
  {
   "cell_type": "code",
   "execution_count": 5,
   "metadata": {
    "execution": {
     "iopub.execute_input": "2021-05-11T12:58:47.657000Z",
     "iopub.status.busy": "2021-05-11T12:58:47.657000Z",
     "iopub.status.idle": "2021-05-11T12:58:47.805000Z",
     "shell.execute_reply": "2021-05-11T12:58:47.805000Z"
    }
   },
   "outputs": [
    {
     "name": "stdout",
     "output_type": "stream",
     "text": [
      "20-element UnitRange{Int64}: 1:20\n"
     ]
    }
   ],
   "source": [
    "# ranges are different from arrays:\n",
    "a4 = 1:20\n",
    "printsum(a4)"
   ]
  },
  {
   "cell_type": "code",
   "execution_count": 6,
   "metadata": {
    "execution": {
     "iopub.execute_input": "2021-05-11T12:58:48.499000Z",
     "iopub.status.busy": "2021-05-11T12:58:48.498000Z",
     "iopub.status.idle": "2021-05-11T12:58:48.506000Z",
     "shell.execute_reply": "2021-05-11T12:58:48.506000Z"
    }
   },
   "outputs": [
    {
     "name": "stdout",
     "output_type": "stream",
     "text": [
      "20-element Array{Int64,1}: [1, 2, 3, 4, 5, 6, 7, 8, 9, 10, 11, 12, 13, 14, 15, 16, 17, 18, 19, 20]\n"
     ]
    }
   ],
   "source": [
    "# however they can be used to create arrays thus:\n",
    "a4 = collect(1:20)\n",
    "printsum(a4)"
   ]
  },
  {
   "cell_type": "code",
   "execution_count": 7,
   "metadata": {
    "execution": {
     "iopub.execute_input": "2021-05-11T12:58:49.721000Z",
     "iopub.status.busy": "2021-05-11T12:58:49.721000Z",
     "iopub.status.idle": "2021-05-11T12:58:49.768000Z",
     "shell.execute_reply": "2021-05-11T12:58:49.768000Z"
    }
   },
   "outputs": [
    {
     "name": "stdout",
     "output_type": "stream",
     "text": [
      "10-element Array{Int64,1}: [2, 4, 8, 16, 32, 64, 128, 256, 512, 1024]\n"
     ]
    }
   ],
   "source": [
    "# arrays can also be generated from comprehensions:\n",
    "a5 = [2^i for i = 1:10]\n",
    "printsum(a5)"
   ]
  },
  {
   "cell_type": "code",
   "execution_count": 8,
   "metadata": {},
   "outputs": [
    {
     "name": "stdout",
     "output_type": "stream",
     "text": [
      "0-element Array{Array{Int64,1},1}: Array{Int64,1}[]\n"
     ]
    }
   ],
   "source": [
    "# arrays can be any type, so arrays of arrays can be created:\n",
    "a6 = (Array{Int64, 1})[]\n",
    "printsum(a6)\n",
    "# (note this is a \"jagged array\" (i.e., an array of arrays), not a multidimensional array,\n",
    "# these are not covered here)"
   ]
  },
  {
   "cell_type": "code",
   "execution_count": 9,
   "metadata": {},
   "outputs": [],
   "source": [
    "# Julia provided a number of \"Dequeue\" functions, the most common\n",
    "# for appending to the end of arrays is push!\n",
    "# ! at the end of a function name indicates that the first argument is updated."
   ]
  },
  {
   "cell_type": "code",
   "execution_count": 10,
   "metadata": {},
   "outputs": [
    {
     "name": "stdout",
     "output_type": "stream",
     "text": [
      "4-element Array{Int64,1}: [1, 2, 3, 4]\n"
     ]
    }
   ],
   "source": [
    "push!(a1, 4)\n",
    "printsum(a1)"
   ]
  },
  {
   "cell_type": "code",
   "execution_count": 11,
   "metadata": {},
   "outputs": [],
   "source": [
    "# push!(a2, 1) would cause error:"
   ]
  },
  {
   "cell_type": "code",
   "execution_count": 12,
   "metadata": {},
   "outputs": [
    {
     "name": "stdout",
     "output_type": "stream",
     "text": [
      "1-element Array{Int64,1}: [1]\n"
     ]
    }
   ],
   "source": [
    "push!(a3, 1)\n",
    "printsum(a3) #> 1-element Array{Int64,1}: [1]"
   ]
  },
  {
   "cell_type": "code",
   "execution_count": 13,
   "metadata": {},
   "outputs": [
    {
     "name": "stdout",
     "output_type": "stream",
     "text": [
      "1-element Array{Array{Int64,1},1}: Array{Int64,1}[[1, 2, 3]]\n"
     ]
    }
   ],
   "source": [
    "push!(a6, [1,2,3])\n",
    "printsum(a6)"
   ]
  },
  {
   "cell_type": "code",
   "execution_count": 14,
   "metadata": {},
   "outputs": [
    {
     "name": "stdout",
     "output_type": "stream",
     "text": [
      "8-element Array{Int64,1}: [1, 1, 2, 2, 3, 3, 4, 4]\n",
      "8-element Array{Int64,1}: [4, 3, 2, 1, 4, 3, 2, 1]\n"
     ]
    }
   ],
   "source": [
    "# using repeat() to create arrays\n",
    "# you must use the keywords \"inner\" and \"outer\"\n",
    "# all arguments must be arrays (not ranges)\n",
    "a7 = repeat(a1,inner=[2],outer=[1])\n",
    "printsum(a7)\n",
    "a8 = repeat(collect(4:-1:1),inner=[1],outer=[2])\n",
    "printsum(a8)"
   ]
  },
  {
   "cell_type": "markdown",
   "metadata": {},
   "source": [
    "# 7. Error Handling"
   ]
  },
  {
   "cell_type": "code",
   "execution_count": 15,
   "metadata": {},
   "outputs": [
    {
     "name": "stdout",
     "output_type": "stream",
     "text": [
      "\u001b[91mUndefVarError: a not defined\u001b[39m\n",
      "Stacktrace:\n",
      " [1] top-level scope at \u001b[1mIn[15]:5\u001b[22m\n",
      " [2] \u001b[1meval\u001b[22m at \u001b[1m./boot.jl:330\u001b[22m [inlined]\n",
      " [3] \u001b[1msoftscope_include_string\u001b[22m\u001b[1m(\u001b[22m::Module, ::String, ::String\u001b[1m)\u001b[22m at \u001b[1m/opt/app-root/src/.julia/packages/SoftGlobalScope/cSbw5/src/SoftGlobalScope.jl:218\u001b[22m\n",
      " [4] \u001b[1mexecute_request\u001b[22m\u001b[1m(\u001b[22m::ZMQ.Socket, ::IJulia.Msg\u001b[1m)\u001b[22m at \u001b[1m/opt/app-root/src/.julia/packages/IJulia/F1GUo/src/execute_request.jl:67\u001b[22m\n",
      " [5] \u001b[1m#invokelatest#1\u001b[22m at \u001b[1m./essentials.jl:709\u001b[22m [inlined]\n",
      " [6] \u001b[1minvokelatest\u001b[22m at \u001b[1m./essentials.jl:708\u001b[22m [inlined]\n",
      " [7] \u001b[1meventloop\u001b[22m\u001b[1m(\u001b[22m::ZMQ.Socket\u001b[1m)\u001b[22m at \u001b[1m/opt/app-root/src/.julia/packages/IJulia/F1GUo/src/eventloop.jl:8\u001b[22m\n",
      " [8] \u001b[1m(::IJulia.var\"#15#18\")\u001b[22m\u001b[1m(\u001b[22m\u001b[1m)\u001b[22m at \u001b[1m./task.jl:333\u001b[22m\n",
      "Continuing after error\n"
     ]
    }
   ],
   "source": [
    "# try, catch can be used to deal with errors as with many other languages\n",
    "try\n",
    "    push!(a,1)\n",
    "catch err\n",
    "    showerror(stdout, err, backtrace());println()\n",
    "end\n",
    "#> UndefVarError: a not defined\n",
    "#> Stacktrace:\n",
    "#>  [1] top-level scope at C:\\JuliaByExample\\src\\error_handling.jl:5\n",
    "#>  [2] include at .\\boot.jl:317 [inlined]\n",
    "#>  [3] include_relative(::Module, ::String) at .\\loading.jl:1038\n",
    "#>  [4] include(::Module, ::String) at .\\sysimg.jl:29\n",
    "#>  [5] exec_options(::Base.JLOptions) at .\\client.jl:229\n",
    "#>  [6] _start() at .\\client.jl:421\n",
    "println(\"Continuing after error\")"
   ]
  },
  {
   "cell_type": "markdown",
   "metadata": {},
   "source": [
    "# 8. Dictionaries\n",
    "Julia uses <a href=\"https://docs.julialang.org/en/v1/base/collections/#Dictionaries-1\">Dicts</a> as associative collections. Usage is very like python except for the rather odd => definition syntax."
   ]
  },
  {
   "cell_type": "code",
   "execution_count": 16,
   "metadata": {},
   "outputs": [
    {
     "name": "stdout",
     "output_type": "stream",
     "text": [
      "Dict{Int64,String} with 2 entries: Dict(2 => \"two\",1 => \"one\")\n"
     ]
    }
   ],
   "source": [
    "# dicts can be initialised directly:\n",
    "a1 = Dict(1=>\"one\", 2=>\"two\")\n",
    "printsum(a1) "
   ]
  },
  {
   "cell_type": "code",
   "execution_count": 17,
   "metadata": {},
   "outputs": [
    {
     "name": "stdout",
     "output_type": "stream",
     "text": [
      "Dict{Int64,String} with 3 entries: Dict(2 => \"two\",3 => \"three\",1 => \"one\")\n"
     ]
    }
   ],
   "source": [
    "# then added to:\n",
    "a1[3]=\"three\"\n",
    "printsum(a1)\n",
    "# (note dicts cannot be assumed to keep their original order)"
   ]
  },
  {
   "cell_type": "code",
   "execution_count": 18,
   "metadata": {},
   "outputs": [
    {
     "name": "stdout",
     "output_type": "stream",
     "text": [
      "Dict{Int64,AbstractString} with 1 entry: Dict{Int64,AbstractString}(0 => \"zero\")\n"
     ]
    }
   ],
   "source": [
    "# dicts may also be created with the type explicitly set\n",
    "a2 = Dict{Int64, AbstractString}()\n",
    "a2[0]=\"zero\"\n",
    "printsum(a2)"
   ]
  },
  {
   "cell_type": "code",
   "execution_count": 19,
   "metadata": {},
   "outputs": [
    {
     "name": "stdout",
     "output_type": "stream",
     "text": [
      "Dict{Int64,String} with 10 entries: Dict(7 => \"7\",4 => \"4\",9 => \"9\",10 => \"10\",2 => \"2\",3 => \"3\",5 => \"5\",8 => \"8\",6 => \"6\",1 => \"1\")\n"
     ]
    }
   ],
   "source": [
    "# dicts, like arrays, may also be created from comprehensions\n",
    "using Printf\n",
    "a3 = Dict([i => @sprintf(\"%d\", i) for i = 1:10])\n",
    "printsum(a3)"
   ]
  },
  {
   "cell_type": "code",
   "execution_count": 20,
   "metadata": {},
   "outputs": [
    {
     "name": "stdout",
     "output_type": "stream",
     "text": [
      "true\n"
     ]
    }
   ],
   "source": [
    "# as you would expect, Julia comes with all the normal helper functions\n",
    "# for dicts, e.g., haskey\n",
    "println(haskey(a1,1))"
   ]
  },
  {
   "cell_type": "code",
   "execution_count": 22,
   "metadata": {},
   "outputs": [
    {
     "name": "stdout",
     "output_type": "stream",
     "text": [
      "true\n"
     ]
    }
   ],
   "source": [
    "# which is equivalent to\n",
    "println(1 in keys(a1))\n",
    "# where keys creates an iterator over the keys of the dictionary"
   ]
  },
  {
   "cell_type": "code",
   "execution_count": 23,
   "metadata": {},
   "outputs": [
    {
     "name": "stdout",
     "output_type": "stream",
     "text": [
      "Base.ValueIterator for a Dict{Int64,String} with 3 entries: [\"two\", \"three\", \"one\"]\n"
     ]
    }
   ],
   "source": [
    "# similar to keys, values get iterators over the dict's values:\n",
    "printsum(values(a1)) "
   ]
  },
  {
   "cell_type": "code",
   "execution_count": 24,
   "metadata": {},
   "outputs": [
    {
     "name": "stdout",
     "output_type": "stream",
     "text": [
      "3-element Array{String,1}: [\"two\", \"three\", \"one\"]\n"
     ]
    }
   ],
   "source": [
    "# use collect to get an array:\n",
    "printsum(collect(values(a1)))"
   ]
  },
  {
   "cell_type": "markdown",
   "metadata": {},
   "source": [
    "# 9. Loops and Map\n",
    "<a href=\"https://docs.julialang.org/en/v1/manual/control-flow/#man-loops-1\">For loops</a> can be defined in a number of ways."
   ]
  },
  {
   "cell_type": "code",
   "execution_count": 25,
   "metadata": {},
   "outputs": [
    {
     "name": "stdout",
     "output_type": "stream",
     "text": [
      "1, 2, 3, 4, 5, 1, 2, 3, 4, 5, \n"
     ]
    }
   ],
   "source": [
    "for i in 1:5\n",
    "    print(i, \", \")\n",
    "end\n",
    "#> 1, 2, 3, 4, 5,\n",
    "# In loop definitions \"in\" is equivilent to \"=\" \n",
    "# (AFAIK, the two are interchangable in this context)\n",
    "for i = 1:5\n",
    "    print(i, \", \")\n",
    "end\n",
    "println()"
   ]
  },
  {
   "cell_type": "code",
   "execution_count": 26,
   "metadata": {},
   "outputs": [
    {
     "name": "stdout",
     "output_type": "stream",
     "text": [
      "1, 2, 3, 4, \n"
     ]
    }
   ],
   "source": [
    "# arrays can also be looped over directly:\n",
    "a1 = [1,2,3,4]\n",
    "for i in a1\n",
    "    print(i, \", \")\n",
    "end\n",
    "println()"
   ]
  },
  {
   "cell_type": "code",
   "execution_count": 27,
   "metadata": {},
   "outputs": [
    {
     "name": "stdout",
     "output_type": "stream",
     "text": [
      "2, 4, 6, 8, \n"
     ]
    }
   ],
   "source": [
    "# continue and break work in the same way as python\n",
    "a2 = collect(1:20)\n",
    "for i in a2\n",
    "    if i % 2 != 0\n",
    "        continue\n",
    "    end\n",
    "    print(i, \", \")\n",
    "    if i >= 8\n",
    "        break\n",
    "    end\n",
    "end\n",
    "println()"
   ]
  },
  {
   "cell_type": "code",
   "execution_count": 28,
   "metadata": {},
   "outputs": [
    {
     "name": "stdout",
     "output_type": "stream",
     "text": [
      "4, 3, 2, 1, \n"
     ]
    }
   ],
   "source": [
    "# if the array is being manipulated during evaluation a while loop shoud be used\n",
    "# pop removes the last element from an array\n",
    "while !isempty(a1)\n",
    "    print(pop!(a1), \", \")\n",
    "end\n",
    "println()"
   ]
  },
  {
   "cell_type": "code",
   "execution_count": 29,
   "metadata": {},
   "outputs": [
    {
     "name": "stdout",
     "output_type": "stream",
     "text": [
      "1: one, 2: two, 3: three, \n"
     ]
    }
   ],
   "source": [
    "d1 = Dict(1=>\"one\", 2=>\"two\", 3=>\"three\")\n",
    "# dicts may be looped through using the keys function:\n",
    "for k in sort(collect(keys(d1)))\n",
    "    print(k, \": \", d1[k], \", \")\n",
    "end\n",
    "println()"
   ]
  },
  {
   "cell_type": "code",
   "execution_count": 30,
   "metadata": {},
   "outputs": [
    {
     "name": "stdout",
     "output_type": "stream",
     "text": [
      "1: one, 2: two, 3: three, \n"
     ]
    }
   ],
   "source": [
    "# like python enumerate can be used to get both the index and value in a loop\n",
    "a3 = [\"one\", \"two\", \"three\"]\n",
    "for (i, v) in enumerate(a3)\n",
    "    print(i, \": \", v, \", \")\n",
    "end\n",
    "println()"
   ]
  },
  {
   "cell_type": "code",
   "execution_count": 31,
   "metadata": {},
   "outputs": [],
   "source": [
    "# (note enumerate starts from 1 since Julia arrays are 1 indexed unlike python)"
   ]
  },
  {
   "cell_type": "code",
   "execution_count": 32,
   "metadata": {},
   "outputs": [
    {
     "name": "stdout",
     "output_type": "stream",
     "text": [
      "[1, 4, 9, 49]\n"
     ]
    }
   ],
   "source": [
    "# map works as you might expect performing the given function on each member of \n",
    "# an array or iter much like comprehensions\n",
    "a4 = map((x) -> x^2, [1, 2, 3, 7])\n",
    "print(a4) \n",
    "println()"
   ]
  },
  {
   "cell_type": "markdown",
   "metadata": {},
   "source": [
    "# 10. Conditional Evaluation\n",
    "If/Else statements work much like other languages - the boolean opperators are <code>true</code> and <code>false</code>."
   ]
  },
  {
   "cell_type": "code",
   "execution_count": 3,
   "metadata": {
    "execution": {
     "iopub.execute_input": "2021-05-11T13:14:24.709000Z",
     "iopub.status.busy": "2021-05-11T13:14:24.709000Z",
     "iopub.status.idle": "2021-05-11T13:14:24.711000Z",
     "shell.execute_reply": "2021-05-11T13:14:24.710000Z"
    }
   },
   "outputs": [
    {
     "name": "stdout",
     "output_type": "stream",
     "text": [
      "Institut des Algorithmes du Sénégal\n"
     ]
    }
   ],
   "source": [
    "if true\n",
    "    println(\"Institut des Algorithmes du Sénégal\")\n",
    "else\n",
    "    println(\"Go learn with IAS !\")\n",
    "end"
   ]
  },
  {
   "cell_type": "code",
   "execution_count": 35,
   "metadata": {},
   "outputs": [
    {
     "name": "stdout",
     "output_type": "stream",
     "text": [
      "It's false!\n"
     ]
    }
   ],
   "source": [
    "if false\n",
    "   println(\"It's true!\")\n",
    "else\n",
    "   println(\"It's false!\")\n",
    "end"
   ]
  },
  {
   "cell_type": "code",
   "execution_count": 36,
   "metadata": {},
   "outputs": [],
   "source": [
    "# Numbers can be compared with opperators like <, >, ==, !="
   ]
  },
  {
   "cell_type": "code",
   "execution_count": 37,
   "metadata": {},
   "outputs": [
    {
     "data": {
      "text/plain": [
       "true"
      ]
     },
     "execution_count": 37,
     "metadata": {},
     "output_type": "execute_result"
    }
   ],
   "source": [
    "1 == 1"
   ]
  },
  {
   "cell_type": "code",
   "execution_count": 38,
   "metadata": {},
   "outputs": [
    {
     "data": {
      "text/plain": [
       "false"
      ]
     },
     "execution_count": 38,
     "metadata": {},
     "output_type": "execute_result"
    }
   ],
   "source": [
    "1 > 2"
   ]
  },
  {
   "cell_type": "code",
   "execution_count": 39,
   "metadata": {},
   "outputs": [
    {
     "data": {
      "text/plain": [
       "true"
      ]
     },
     "execution_count": 39,
     "metadata": {},
     "output_type": "execute_result"
    }
   ],
   "source": [
    "\"foo\" != \"bar\""
   ]
  },
  {
   "cell_type": "code",
   "execution_count": 40,
   "metadata": {},
   "outputs": [],
   "source": [
    "# and many functions return boolean values"
   ]
  },
  {
   "cell_type": "code",
   "execution_count": 41,
   "metadata": {},
   "outputs": [
    {
     "data": {
      "text/plain": [
       "true"
      ]
     },
     "execution_count": 41,
     "metadata": {},
     "output_type": "execute_result"
    }
   ],
   "source": [
    "occursin(\"that\", \"this and that\")"
   ]
  },
  {
   "cell_type": "code",
   "execution_count": 4,
   "metadata": {
    "execution": {
     "iopub.execute_input": "2021-05-11T13:15:27.852000Z",
     "iopub.status.busy": "2021-05-11T13:15:27.851000Z",
     "iopub.status.idle": "2021-05-11T13:15:28.880000Z",
     "shell.execute_reply": "2021-05-11T13:15:28.880000Z"
    }
   },
   "outputs": [
    {
     "data": {
      "text/plain": [
       "checktype (generic function with 1 method)"
      ]
     },
     "execution_count": 4,
     "metadata": {},
     "output_type": "execute_result"
    }
   ],
   "source": [
    "# More complex logical statments can be achieved with `elseif`\n",
    "function checktype(x)\n",
    "   if x isa Int\n",
    "      println(\"Look! An Int!\")\n",
    "   elseif x isa AbstractFloat\n",
    "      println(\"Look! A Float!\")\n",
    "   elseif x isa Complex\n",
    "      println(\"Whoa, that's complex!\")\n",
    "   else\n",
    "      println(\"I have no idea what that is\")\n",
    "   end\n",
    "end"
   ]
  },
  {
   "cell_type": "code",
   "execution_count": 43,
   "metadata": {},
   "outputs": [
    {
     "name": "stdout",
     "output_type": "stream",
     "text": [
      "Look! An Int!\n"
     ]
    }
   ],
   "source": [
    "checktype(2)"
   ]
  },
  {
   "cell_type": "code",
   "execution_count": 44,
   "metadata": {},
   "outputs": [
    {
     "name": "stdout",
     "output_type": "stream",
     "text": [
      "Look! A Float!\n"
     ]
    }
   ],
   "source": [
    "checktype(√2)"
   ]
  },
  {
   "cell_type": "code",
   "execution_count": 45,
   "metadata": {},
   "outputs": [
    {
     "name": "stdout",
     "output_type": "stream",
     "text": [
      "Whoa, that's complex!\n"
     ]
    }
   ],
   "source": [
    "checktype(√Complex(-2))"
   ]
  },
  {
   "cell_type": "code",
   "execution_count": 46,
   "metadata": {},
   "outputs": [
    {
     "name": "stdout",
     "output_type": "stream",
     "text": [
      "I have no idea what that is\n"
     ]
    }
   ],
   "source": [
    "checktype(\"who am I?\")"
   ]
  },
  {
   "cell_type": "code",
   "execution_count": 47,
   "metadata": {},
   "outputs": [],
   "source": [
    "# For simple logical statements, one can be more terse using the \"ternary operator\",\n",
    "# which takes the form `predicate ? do_if_true : do_if_false`"
   ]
  },
  {
   "cell_type": "code",
   "execution_count": 48,
   "metadata": {},
   "outputs": [
    {
     "name": "stdout",
     "output_type": "stream",
     "text": [
      "that's false!\n"
     ]
    }
   ],
   "source": [
    "1 > 2 ? println(\"that's true!\") : println(\"that's false!\")"
   ]
  },
  {
   "cell_type": "code",
   "execution_count": 49,
   "metadata": {},
   "outputs": [
    {
     "data": {
      "text/plain": [
       "\"That's negative!\""
      ]
     },
     "execution_count": 49,
     "metadata": {},
     "output_type": "execute_result"
    }
   ],
   "source": [
    "noisy_sqrt(x) = x ≥ 0 ? sqrt(x) : \"That's negative!\"\n",
    "noisy_sqrt(4)\n",
    "#> 2.0\n",
    "noisy_sqrt(-4)"
   ]
  },
  {
   "cell_type": "code",
   "execution_count": 50,
   "metadata": {},
   "outputs": [],
   "source": [
    "# \"Short-circuit evaluation\" offers another option for conditional statements.\n",
    "# The opperators `&&` for AND and `||` for OR only evaluate the right-hand\n",
    "# statement if necessary based on the predicate.\n",
    "# Logically, if I want to know if `42 == 0 AND x < y`,\n",
    "# it doesn't matter what `x` and `y` are, since the first statement is false.\n",
    "# This can be exploited to only evaluate a statement if something is true -\n",
    "# the second statement doesn't even have to be boolean!"
   ]
  },
  {
   "cell_type": "code",
   "execution_count": 52,
   "metadata": {},
   "outputs": [
    {
     "name": "stdout",
     "output_type": "stream",
     "text": [
      "that's true!\n"
     ]
    },
    {
     "data": {
      "text/plain": [
       "false"
      ]
     },
     "execution_count": 52,
     "metadata": {},
     "output_type": "execute_result"
    }
   ],
   "source": [
    "everything = 42\n",
    "everything < 100 && println(\"that's true!\")\n",
    "everything == 0 && println(\"that's true!\")"
   ]
  },
  {
   "cell_type": "code",
   "execution_count": 53,
   "metadata": {},
   "outputs": [
    {
     "data": {
      "text/plain": [
       "true"
      ]
     },
     "execution_count": 53,
     "metadata": {},
     "output_type": "execute_result"
    }
   ],
   "source": [
    "√everything > 0 || println(\"that's false!\")"
   ]
  },
  {
   "cell_type": "code",
   "execution_count": 54,
   "metadata": {},
   "outputs": [
    {
     "name": "stdout",
     "output_type": "stream",
     "text": [
      "that's false!\n"
     ]
    }
   ],
   "source": [
    "√everything == everything || println(\"that's false!\")"
   ]
  },
  {
   "cell_type": "markdown",
   "metadata": {},
   "source": [
    "# Types\n",
    "Types are a key way of structuring data within Julia."
   ]
  },
  {
   "cell_type": "code",
   "execution_count": 55,
   "metadata": {},
   "outputs": [],
   "source": [
    "# Type Definitions are probably most similar to tyepdefs in c?\n",
    "# a simple type with no special constructor functions might look like this\n",
    "mutable struct Person\n",
    "    name::AbstractString\n",
    "    male::Bool\n",
    "    age::Float64\n",
    "    children::Int\n",
    "end"
   ]
  },
  {
   "cell_type": "code",
   "execution_count": 56,
   "metadata": {},
   "outputs": [
    {
     "name": "stdout",
     "output_type": "stream",
     "text": [
      "Person: Person(\"Julia\", false, 4.0, 0)\n"
     ]
    }
   ],
   "source": [
    "p = Person(\"Julia\", false, 4, 0)\n",
    "printsum(p)"
   ]
  },
  {
   "cell_type": "code",
   "execution_count": 57,
   "metadata": {},
   "outputs": [
    {
     "name": "stdout",
     "output_type": "stream",
     "text": [
      "2-element Array{Person,1}: Person[Person(\"Steve\", true, 42.0, 0), Person(\"Jade\", false, 17.0, 3)]\n"
     ]
    }
   ],
   "source": [
    "people = Person[]\n",
    "push!(people, Person(\"Steve\", true, 42, 0))\n",
    "push!(people, Person(\"Jade\", false, 17, 3))\n",
    "printsum(people)"
   ]
  },
  {
   "cell_type": "code",
   "execution_count": 58,
   "metadata": {},
   "outputs": [],
   "source": [
    "# types may also contains arrays and dicts\n",
    "# constructor functions can be defined to easily create objects\n",
    "mutable struct Family\n",
    "    name::AbstractString\n",
    "    members::Array{AbstractString, 1}\n",
    "    extended::Bool\n",
    "    # constructor that takes one argument and generates a default\n",
    "    # for the other two values\n",
    "    Family(name::AbstractString) = new(name, AbstractString[], false)\n",
    "    # constructor that takes two arguements and infers the third\n",
    "    Family(name::AbstractString, members) = new(name, members, length(members) > 3)\n",
    "end"
   ]
  },
  {
   "cell_type": "code",
   "execution_count": 59,
   "metadata": {},
   "outputs": [
    {
     "name": "stdout",
     "output_type": "stream",
     "text": [
      "Family(\"blogs\", AbstractString[], false)\n"
     ]
    }
   ],
   "source": [
    "fam1 = Family(\"blogs\")\n",
    "println(fam1)"
   ]
  },
  {
   "cell_type": "code",
   "execution_count": 60,
   "metadata": {},
   "outputs": [
    {
     "name": "stdout",
     "output_type": "stream",
     "text": [
      "Family(\"jones\", AbstractString[\"anna\", \"bob\", \"charlie\", \"dick\"], true)\n"
     ]
    }
   ],
   "source": [
    "fam2 = Family(\"jones\", [\"anna\", \"bob\", \"charlie\", \"dick\"])\n",
    "println(fam2)"
   ]
  },
  {
   "cell_type": "markdown",
   "metadata": {},
   "source": [
    "# Packages and Including of Files\n",
    "<a href=\"https://pkg.julialang.org/docs/\">Packages</a> extend the functionality of Julia's standard library."
   ]
  },
  {
   "cell_type": "code",
   "execution_count": 61,
   "metadata": {},
   "outputs": [],
   "source": [
    "# You might not want to run this file completely, as the Pkg-commands can take a\n",
    "# long time to complete.\n",
    "using Pkg"
   ]
  },
  {
   "cell_type": "code",
   "execution_count": 63,
   "metadata": {},
   "outputs": [
    {
     "name": "stdout",
     "output_type": "stream",
     "text": [
      "\u001b[32m\u001b[1m  Updating\u001b[22m\u001b[39m registry at `~/.julia/registries/General`\n",
      "\u001b[32m\u001b[1m Resolving\u001b[22m\u001b[39m package versions...\n"
     ]
    },
    {
     "name": "stderr",
     "output_type": "stream",
     "text": [
      "┌ Warning: Some registries failed to update:\n",
      "│     — `~/.julia/registries/General` — registry dirty\n",
      "└ @ Pkg.Types /builddir/build/BUILD/julia/build/usr/share/julia/stdlib/v1.3/Pkg/src/Types.jl:1199\n"
     ]
    },
    {
     "name": "stdout",
     "output_type": "stream",
     "text": [
      "\u001b[32m\u001b[1m Installed\u001b[22m\u001b[39m Calculus ─ v0.5.1\n",
      "\u001b[32m\u001b[1m  Updating\u001b[22m\u001b[39m `~/.julia/environments/v1.3/Project.toml`\n",
      " \u001b[90m [49dc2e85]\u001b[39m\u001b[92m + Calculus v0.5.1\u001b[39m\n",
      "\u001b[32m\u001b[1m  Updating\u001b[22m\u001b[39m `~/.julia/environments/v1.3/Manifest.toml`\n",
      " \u001b[90m [49dc2e85]\u001b[39m\u001b[92m + Calculus v0.5.1\u001b[39m\n",
      " \u001b[90m [37e2e46d]\u001b[39m\u001b[92m + LinearAlgebra \u001b[39m\n"
     ]
    }
   ],
   "source": [
    "# install one package (e.g. Calculus) and all its dependencies:\n",
    "Pkg.add(\"Calculus\")"
   ]
  },
  {
   "cell_type": "code",
   "execution_count": 64,
   "metadata": {},
   "outputs": [
    {
     "data": {
      "text/plain": [
       "Dict{String,Union{Nothing, VersionNumber}} with 2 entries:\n",
       "  \"IJulia\"   => v\"1.20.2\"\n",
       "  \"Calculus\" => v\"0.5.1\""
      ]
     },
     "execution_count": 64,
     "metadata": {},
     "output_type": "execute_result"
    }
   ],
   "source": [
    "Pkg.installed()"
   ]
  },
  {
   "cell_type": "code",
   "execution_count": 65,
   "metadata": {},
   "outputs": [
    {
     "name": "stderr",
     "output_type": "stream",
     "text": [
      "┌ Info: Precompiling Calculus [49dc2e85-a5d0-5ad3-a950-438e2897f1b9]\n",
      "└ @ Base loading.jl:1273\n"
     ]
    }
   ],
   "source": [
    "# to use a package:\n",
    "using Calculus"
   ]
  },
  {
   "cell_type": "code",
   "execution_count": 67,
   "metadata": {},
   "outputs": [
    {
     "data": {
      "text/plain": [
       "0.5403023058631036"
      ]
     },
     "execution_count": 67,
     "metadata": {},
     "output_type": "execute_result"
    }
   ],
   "source": [
    "# will import all functions of that package into the current namespace, so that\n",
    "# it is possible to call\n",
    "derivative(x -> sin(x), 1.0)"
   ]
  },
  {
   "cell_type": "code",
   "execution_count": 68,
   "metadata": {},
   "outputs": [
    {
     "data": {
      "text/plain": [
       "-0.8414709847974693"
      ]
     },
     "execution_count": 68,
     "metadata": {},
     "output_type": "execute_result"
    }
   ],
   "source": [
    "import Calculus\n",
    "# will enable you to specify which package the function is called from\n",
    "Calculus.derivative(x -> cos(x), 1.0)"
   ]
  },
  {
   "cell_type": "markdown",
   "metadata": {},
   "source": [
    "# Plotting\n",
    "Plotting in Julia is only possible with additional Packages. Examples of some of the main packages are given below."
   ]
  },
  {
   "cell_type": "code",
   "execution_count": 69,
   "metadata": {},
   "outputs": [
    {
     "name": "stdout",
     "output_type": "stream",
     "text": [
      "\u001b[32m\u001b[1m Resolving\u001b[22m\u001b[39m package versions...\n",
      "\u001b[32m\u001b[1m Installed\u001b[22m\u001b[39m SortingAlgorithms ── v0.3.1\n",
      "\u001b[32m\u001b[1m Installed\u001b[22m\u001b[39m PlotThemes ───────── v1.0.1\n",
      "\u001b[32m\u001b[1m Installed\u001b[22m\u001b[39m PlotUtils ────────── v0.6.2\n",
      "\u001b[32m\u001b[1m Installed\u001b[22m\u001b[39m Contour ──────────── v0.5.1\n",
      "\u001b[32m\u001b[1m Installed\u001b[22m\u001b[39m StaticArrays ─────── v0.12.1\n",
      "\u001b[32m\u001b[1m Installed\u001b[22m\u001b[39m FixedPointNumbers ── v0.6.1\n",
      "\u001b[32m\u001b[1m Installed\u001b[22m\u001b[39m ColorTypes ───────── v0.9.1\n",
      "\u001b[32m\u001b[1m Installed\u001b[22m\u001b[39m Plots ────────────── v0.28.4\n",
      "\u001b[32m\u001b[1m Installed\u001b[22m\u001b[39m Showoff ──────────── v0.3.1\n",
      "\u001b[32m\u001b[1m Installed\u001b[22m\u001b[39m Colors ───────────── v0.11.2\n",
      "\u001b[32m\u001b[1m Installed\u001b[22m\u001b[39m Measures ─────────── v0.3.1\n",
      "\u001b[32m\u001b[1m Installed\u001b[22m\u001b[39m Missings ─────────── v0.4.3\n",
      "\u001b[32m\u001b[1m Installed\u001b[22m\u001b[39m Reexport ─────────── v0.2.0\n",
      "\u001b[32m\u001b[1m Installed\u001b[22m\u001b[39m Requires ─────────── v1.0.0\n",
      "\u001b[32m\u001b[1m Installed\u001b[22m\u001b[39m FFMPEG ───────────── v0.2.4\n",
      "\u001b[32m\u001b[1m Installed\u001b[22m\u001b[39m RecipesBase ──────── v0.7.0\n",
      "\u001b[32m\u001b[1m Installed\u001b[22m\u001b[39m DataAPI ──────────── v1.1.0\n",
      "\u001b[32m\u001b[1m Installed\u001b[22m\u001b[39m OrderedCollections ─ v1.1.0\n",
      "\u001b[32m\u001b[1m Installed\u001b[22m\u001b[39m GeometryTypes ────── v0.7.7\n",
      "\u001b[32m\u001b[1m Installed\u001b[22m\u001b[39m DataStructures ───── v0.17.9\n",
      "\u001b[32m\u001b[1m Installed\u001b[22m\u001b[39m StatsBase ────────── v0.32.0\n",
      "\u001b[32m\u001b[1m Installed\u001b[22m\u001b[39m NaNMath ──────────── v0.3.3\n",
      "\u001b[32m\u001b[1m Installed\u001b[22m\u001b[39m GR ───────────────── v0.44.0\n",
      "\u001b[32m\u001b[1m  Updating\u001b[22m\u001b[39m `~/.julia/environments/v1.3/Project.toml`\n",
      " \u001b[90m [91a5bcdd]\u001b[39m\u001b[92m + Plots v0.28.4\u001b[39m\n",
      "\u001b[32m\u001b[1m  Updating\u001b[22m\u001b[39m `~/.julia/environments/v1.3/Manifest.toml`\n",
      " \u001b[90m [3da002f7]\u001b[39m\u001b[92m + ColorTypes v0.9.1\u001b[39m\n",
      " \u001b[90m [5ae59095]\u001b[39m\u001b[92m + Colors v0.11.2\u001b[39m\n",
      " \u001b[90m [d38c429a]\u001b[39m\u001b[92m + Contour v0.5.1\u001b[39m\n",
      " \u001b[90m [9a962f9c]\u001b[39m\u001b[92m + DataAPI v1.1.0\u001b[39m\n",
      " \u001b[90m [864edb3b]\u001b[39m\u001b[92m + DataStructures v0.17.9\u001b[39m\n",
      " \u001b[90m [c87230d0]\u001b[39m\u001b[92m + FFMPEG v0.2.4\u001b[39m\n",
      " \u001b[90m [53c48c17]\u001b[39m\u001b[92m + FixedPointNumbers v0.6.1\u001b[39m\n",
      " \u001b[90m [28b8d3ca]\u001b[39m\u001b[92m + GR v0.44.0\u001b[39m\n",
      " \u001b[90m [4d00f742]\u001b[39m\u001b[92m + GeometryTypes v0.7.7\u001b[39m\n",
      " \u001b[90m [442fdcdd]\u001b[39m\u001b[92m + Measures v0.3.1\u001b[39m\n",
      " \u001b[90m [e1d29d7a]\u001b[39m\u001b[92m + Missings v0.4.3\u001b[39m\n",
      " \u001b[90m [77ba4419]\u001b[39m\u001b[92m + NaNMath v0.3.3\u001b[39m\n",
      " \u001b[90m [bac558e1]\u001b[39m\u001b[92m + OrderedCollections v1.1.0\u001b[39m\n",
      " \u001b[90m [ccf2f8ad]\u001b[39m\u001b[92m + PlotThemes v1.0.1\u001b[39m\n",
      " \u001b[90m [995b91a9]\u001b[39m\u001b[92m + PlotUtils v0.6.2\u001b[39m\n",
      " \u001b[90m [91a5bcdd]\u001b[39m\u001b[92m + Plots v0.28.4\u001b[39m\n",
      " \u001b[90m [3cdcf5f2]\u001b[39m\u001b[92m + RecipesBase v0.7.0\u001b[39m\n",
      " \u001b[90m [189a3867]\u001b[39m\u001b[92m + Reexport v0.2.0\u001b[39m\n",
      " \u001b[90m [ae029012]\u001b[39m\u001b[92m + Requires v1.0.0\u001b[39m\n",
      " \u001b[90m [992d4aef]\u001b[39m\u001b[92m + Showoff v0.3.1\u001b[39m\n",
      " \u001b[90m [a2af1166]\u001b[39m\u001b[92m + SortingAlgorithms v0.3.1\u001b[39m\n",
      " \u001b[90m [90137ffa]\u001b[39m\u001b[92m + StaticArrays v0.12.1\u001b[39m\n",
      " \u001b[90m [2913bbd2]\u001b[39m\u001b[92m + StatsBase v0.32.0\u001b[39m\n",
      " \u001b[90m [8bb1440f]\u001b[39m\u001b[92m + DelimitedFiles \u001b[39m\n",
      " \u001b[90m [2f01184e]\u001b[39m\u001b[92m + SparseArrays \u001b[39m\n",
      " \u001b[90m [10745b16]\u001b[39m\u001b[92m + Statistics \u001b[39m\n",
      "\u001b[32m\u001b[1m  Building\u001b[22m\u001b[39m GR ────→ `~/.julia/packages/GR/oiZD3/deps/build.log`\n",
      "\u001b[32m\u001b[1m  Building\u001b[22m\u001b[39m FFMPEG → `~/.julia/packages/FFMPEG/guN1x/deps/build.log`\n",
      "\u001b[32m\u001b[1m  Building\u001b[22m\u001b[39m Plots ─→ `~/.julia/packages/Plots/qZHsp/deps/build.log`\n"
     ]
    }
   ],
   "source": [
    "Pkg.add(\"Plots\")"
   ]
  },
  {
   "cell_type": "code",
   "execution_count": 71,
   "metadata": {},
   "outputs": [
    {
     "name": "stdout",
     "output_type": "stream",
     "text": [
      "\u001b[32m\u001b[1m Resolving\u001b[22m\u001b[39m package versions...\n",
      "\u001b[32m\u001b[1m  Updating\u001b[22m\u001b[39m `~/.julia/environments/v1.3/Project.toml`\n",
      "\u001b[90m [no changes]\u001b[39m\n",
      "\u001b[32m\u001b[1m  Updating\u001b[22m\u001b[39m `~/.julia/environments/v1.3/Manifest.toml`\n",
      "\u001b[90m [no changes]\u001b[39m\n"
     ]
    }
   ],
   "source": [
    "Pkg.add(\"GR\")"
   ]
  },
  {
   "cell_type": "code",
   "execution_count": 75,
   "metadata": {},
   "outputs": [
    {
     "name": "stderr",
     "output_type": "stream",
     "text": [
      "┌ Info: Saved animation to \n",
      "│   fn = /opt/app-root/src/data/tmp.gif\n",
      "└ @ Plots /opt/app-root/src/.julia/packages/Plots/qZHsp/src/animation.jl:98\n"
     ]
    },
    {
     "data": {
      "text/html": [
       "<img src=\"data:image/gif;base64,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\" />"
      ],
      "text/plain": [
       "Plots.AnimatedGif(\"/opt/app-root/src/data/tmp.gif\")"
      ]
     },
     "execution_count": 75,
     "metadata": {},
     "output_type": "execute_result"
    }
   ],
   "source": [
    "# define the Lorenz attractor\n",
    "mutable struct Lorenz\n",
    "    dt; σ; ρ; β; x; y; z\n",
    "end\n",
    "\n",
    "function step!(l::Lorenz)\n",
    "    dx = l.σ*(l.y - l.x)       ; l.x += l.dt * dx\n",
    "    dy = l.x*(l.ρ - l.z) - l.y ; l.y += l.dt * dy\n",
    "    dz = l.x*l.y - l.β*l.z     ; l.z += l.dt * dz\n",
    "end\n",
    "\n",
    "attractor = Lorenz((dt = 0.02, σ = 10., ρ = 28., β = 8//3, x = 1., y = 1., z = 1.)...)\n",
    "\n",
    "\n",
    "# initialize a 3D plot with 1 empty series\n",
    "plt = plot3d(1, xlim=(-25,25), ylim=(-25,25), zlim=(0,50),\n",
    "                title = \"Lorenz Attractor\", marker = 2)\n",
    "\n",
    "# build an animated gif by pushing new points to the plot, saving every 10th frame\n",
    "@gif for i=1:1500\n",
    "    step!(attractor)\n",
    "    push!(plt, attractor.x, attractor.y, attractor.z)\n",
    "end every 10"
   ]
  },
  {
   "cell_type": "code",
   "execution_count": 76,
   "metadata": {},
   "outputs": [],
   "source": [
    "using Plots\n",
    "\n",
    "# plot some data\n",
    "plot([cumsum(rand(500) .- 0.5), cumsum(rand(500) .- 0.5)])\n",
    "\n",
    "# save the current figure\n",
    "savefig(\"plots.svg\")\n",
    "# .eps, .pdf, & .png are also supported\n",
    "# we used svg here because it respects the width and height specified above"
   ]
  },
  {
   "cell_type": "code",
   "execution_count": null,
   "metadata": {},
   "outputs": [],
   "source": []
  }
 ],
 "metadata": {
  "kernelspec": {
   "display_name": "Julia 1.5.3",
   "language": "julia",
   "name": "julia-1.5"
  },
  "language_info": {
   "file_extension": ".jl",
   "mimetype": "application/julia",
   "name": "julia",
   "version": "1.5.3"
  }
 },
 "nbformat": 4,
 "nbformat_minor": 4
}
