{
 "cells": [
  {
   "cell_type": "markdown",
   "metadata": {
    "id": "-S9j-N-jeqxV"
   },
   "source": [
    "$\\textbf{Institut des Algorithmes du Sénégal}$"
   ]
  },
  {
   "cell_type": "markdown",
   "metadata": {
    "id": "2KR1eALMBEtk"
   },
   "source": [
    "# Le problème du voyageur de commerce\n",
    "\n",
    "Le problème du voyageur de commerce est un des problèmes les plus connus en informatique. Il est souvent utilisé comme premier exemple de problème NP-Complet."
   ]
  },
  {
   "cell_type": "markdown",
   "metadata": {
    "id": "nmRpr6q_BQlc"
   },
   "source": [
    "# Le problème\n",
    "\n",
    "Le problème du voyageur de commerce est le suivant : un voyageur de commerce souhaite faire la tournée des villages de sa région puis rentrer chez lui (certaines fois le retour chez lui est ignoré). Son objectif est de minimiser la distance totale parcourue. Un tel problème est appelé problème “d’optimisation” car le but est de trouver les paramètres qui minimisent (ou maximisent) une certaine quantité.\n",
    "\n",
    "Formellement, le problème consiste, étant donné un graphe pondéré et un sommet initial, à trouver un cycle (ou un chemin) élémentaire passant par tous les sommets du graphe et de longueur minimale. Remarque : Pour de nombreux cas d’utilisation, on considère souvent un graphe complet pondéré.\n",
    "\n",
    "Ce problème est connu comme étant un exemple de problème NP-Complet."
   ]
  },
  {
   "cell_type": "markdown",
   "metadata": {
    "id": "Qt-hqVV4Bhha"
   },
   "source": [
    "# Exemple d’algorithme solution\n",
    "\n",
    "\n",
    "Afin de trouver la solution à ce problème, une solution simple consiste à énumérer l’ensemble des chemins possibles, à calculer pour chacun sa longueur et à sélectionner celui ou un de ceux qui sont minimaux. Pour cela, on adapte un parcours en profondeur :"
   ]
  },
  {
   "cell_type": "code",
   "execution_count": 2,
   "metadata": {
    "colab": {
     "base_uri": "https://localhost:8080/"
    },
    "execution": {
     "iopub.execute_input": "2021-05-12T16:52:57.663350Z",
     "iopub.status.busy": "2021-05-12T16:52:57.663094Z",
     "iopub.status.idle": "2021-05-12T16:52:57.675879Z",
     "shell.execute_reply": "2021-05-12T16:52:57.674986Z",
     "shell.execute_reply.started": "2021-05-12T16:52:57.663324Z"
    },
    "id": "KKB2xZSjA8Wu",
    "outputId": "6ba63866-0c54-4770-b4a1-13e1bf592e11"
   },
   "outputs": [
    {
     "ename": "SyntaxError",
     "evalue": "invalid syntax (<ipython-input-2-6b6c4b62b82c>, line 43)",
     "output_type": "error",
     "traceback": [
      "\u001b[0;36m  File \u001b[0;32m\"<ipython-input-2-6b6c4b62b82c>\"\u001b[0;36m, line \u001b[0;32m43\u001b[0m\n\u001b[0;31m    print(repr(result))def travellingSalesman (graph, sourceNode) :\u001b[0m\n\u001b[0m                         ^\u001b[0m\n\u001b[0;31mSyntaxError\u001b[0m\u001b[0;31m:\u001b[0m invalid syntax\n"
     ]
    }
   ],
   "source": [
    "# This function returns the shortest path in the graph going through all nodes\n",
    "def travellingSalesman (graph, sourceNode) :\n",
    " \n",
    "    # We store the best path here\n",
    "    bestLength = float(\"inf\")\n",
    "    bestPath = None\n",
    " \n",
    "    # Thus function takes as an argument the nodes that are not visited yet, the graph and a current location\n",
    "    # In addition, we remember the currently crossed path and the associated weight\n",
    "    # Basically, we perform a depth-first search and study the path length if it contains all nodes\n",
    "    def exhaustive (remainingNodes, currentNode, currentPath, currentLength, graph) :\n",
    "        \n",
    "        # If no nodes are remaining, we have a path comprising all nodes\n",
    "        # We save it as the best if it is better than the current best\n",
    "        if not remainingNodes :\n",
    "            print(\"Found Hamiltonian path\", repr(currentPath), \"of size\", currentLength)\n",
    "            nonlocal bestLength, bestPath\n",
    "            if currentLength < bestLength :\n",
    "                bestLength = currentLength\n",
    "                bestPath = currentPath\n",
    "        \n",
    "        # If some nodes are remaining, we perform a depth-first search\n",
    "        # We increase the path and its length in the recursive call\n",
    "        # Obviously, we only consider nodes that are reachable\n",
    "        else :\n",
    "            for neighbor, weight in graph[currentNode] :\n",
    "                if neighbor in remainingNodes :\n",
    "                    otherNodes = [x for x in remainingNodes if x != neighbor]\n",
    "                    exhaustive(otherNodes, neighbor, currentPath + [neighbor], currentLength + weight, graph)\n",
    "    \n",
    "    # We initiate the search from the source node\n",
    "    otherNodes = [x for x in range(len(graph)) if x != sourceNode]\n",
    "    exhaustive(otherNodes, sourceNode, [sourceNode], 0, graph)\n",
    "    \n",
    "    # We return the result\n",
    "    return (bestPath, bestLength)\n",
    " \n",
    "###################################################################\n",
    " \n",
    "# Test graph\n",
    "graph = [[(1, 1), (2, 7), (5, 3)], [(0, 1), (2, 1), (5, 1)], [(0, 7), (1, 1)], [(4, 2), (5, 2)], [(3, 2), (5, 5)], [(0, 3), (1, 1), (3, 2), (4, 5)]]\n",
    "(result, length) = travellingSalesman(graph, 0)\n",
    "print(repr(result))\n",
    "def travellingSalesman (graph, sourceNode) :\n",
    "\n",
    "    # We store the best path here\n",
    "    bestLength = float(\"inf\")\n",
    "    bestPath = None\n",
    " \n",
    "    # Thus function takes as an argument the nodes that are not visited yet, the graph and a current location\n",
    "    # In addition, we remember the currently crossed ction returns the shortest path in the graph going through all nodespath and the associated weight\n",
    "    # Basically, we perform a depth-first search and study the path length if it contains all nodes\n",
    "    def exhaustive (remainingNodes, currentNode, currentPath, currentLength, graph) :\n",
    "…(result, length) = travellingSalesman(graph, 0)\n",
    "print(repr(result))\n",
    "print(length)\n",
    "print(length)"
   ]
  },
  {
   "cell_type": "code",
   "execution_count": null,
   "metadata": {},
   "outputs": [],
   "source": []
  }
 ],
 "metadata": {
  "colab": {
   "collapsed_sections": [],
   "name": "Voyageur de commerce.ipynb",
   "provenance": []
  },
  "kernelspec": {
   "display_name": "Python 3",
   "language": "python",
   "name": "python3"
  },
  "language_info": {
   "codemirror_mode": {
    "name": "ipython",
    "version": 3
   },
   "file_extension": ".py",
   "mimetype": "text/x-python",
   "name": "python",
   "nbconvert_exporter": "python",
   "pygments_lexer": "ipython3",
   "version": "3.6.12"
  }
 },
 "nbformat": 4,
 "nbformat_minor": 4
}
